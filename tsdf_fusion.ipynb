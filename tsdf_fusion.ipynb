{
  "nbformat": 4,
  "nbformat_minor": 0,
  "metadata": {
    "colab": {
      "name": "tsdf fusion",
      "provenance": [],
      "collapsed_sections": [],
      "machine_shape": "hm",
      "authorship_tag": "ABX9TyPSh3ohkWAHLMQQ2rMyiYeC",
      "include_colab_link": true
    },
    "kernelspec": {
      "name": "python3",
      "display_name": "Python 3"
    },
    "accelerator": "GPU"
  },
  "cells": [
    {
      "cell_type": "markdown",
      "metadata": {
        "id": "view-in-github",
        "colab_type": "text"
      },
      "source": [
        "<a href=\"https://colab.research.google.com/github/Giogia/Scene-Reconstruction/blob/master/tsdf_fusion.ipynb\" target=\"_parent\"><img src=\"https://colab.research.google.com/assets/colab-badge.svg\" alt=\"Open In Colab\"/></a>"
      ]
    },
    {
      "cell_type": "code",
      "metadata": {
        "id": "QUUKNMdzOsnF",
        "colab_type": "code",
        "outputId": "e35fb54f-a419-4563-d642-53bb2c08e1d0",
        "colab": {
          "base_uri": "https://localhost:8080/",
          "height": 1000
        }
      },
      "source": [
        "pip install pycuda OpenEXR open3d-python plotly"
      ],
      "execution_count": 13,
      "outputs": [
        {
          "output_type": "stream",
          "text": [
            "Collecting pycuda\n",
            "\u001b[?25l  Downloading https://files.pythonhosted.org/packages/5e/3f/5658c38579b41866ba21ee1b5020b8225cec86fe717e4b1c5c972de0a33c/pycuda-2019.1.2.tar.gz (1.6MB)\n",
            "\u001b[K     |████████████████████████████████| 1.6MB 2.8MB/s \n",
            "\u001b[?25hCollecting OpenEXR\n",
            "  Downloading https://files.pythonhosted.org/packages/7c/c4/76bf884f59d3137847edf8b93aaf40f6257d8315d0064e8b1a606ad80b1b/OpenEXR-1.3.2.tar.gz\n",
            "Collecting open3d-python\n",
            "\u001b[?25l  Downloading https://files.pythonhosted.org/packages/cc/ed/a6ee032c9568bf232cc19a8bb91b1faa2d0610a431e8870c11858a3d84eb/open3d_python-0.7.0.0-cp36-cp36m-manylinux1_x86_64.whl (3.7MB)\n",
            "\u001b[K     |████████████████████████████████| 3.7MB 43.1MB/s \n",
            "\u001b[?25hRequirement already satisfied: plotly in /usr/local/lib/python3.6/dist-packages (4.4.1)\n",
            "Collecting pytools>=2011.2\n",
            "\u001b[?25l  Downloading https://files.pythonhosted.org/packages/66/c7/88a4f8b6f0f78d0115ec3320861a0cc1f6daa3b67e97c3c2842c33f9c089/pytools-2020.1.tar.gz (60kB)\n",
            "\u001b[K     |████████████████████████████████| 61kB 8.0MB/s \n",
            "\u001b[?25hRequirement already satisfied: decorator>=3.2.0 in /usr/local/lib/python3.6/dist-packages (from pycuda) (4.4.2)\n",
            "Collecting appdirs>=1.4.0\n",
            "  Downloading https://files.pythonhosted.org/packages/56/eb/810e700ed1349edde4cbdc1b2a21e28cdf115f9faf263f6bbf8447c1abf3/appdirs-1.4.3-py2.py3-none-any.whl\n",
            "Collecting mako\n",
            "\u001b[?25l  Downloading https://files.pythonhosted.org/packages/50/78/f6ade1e18aebda570eed33b7c534378d9659351cadce2fcbc7b31be5f615/Mako-1.1.2-py2.py3-none-any.whl (75kB)\n",
            "\u001b[K     |████████████████████████████████| 81kB 11.3MB/s \n",
            "\u001b[?25hRequirement already satisfied: notebook in /usr/local/lib/python3.6/dist-packages (from open3d-python) (5.2.2)\n",
            "Requirement already satisfied: numpy in /usr/local/lib/python3.6/dist-packages (from open3d-python) (1.18.2)\n",
            "Requirement already satisfied: ipywidgets in /usr/local/lib/python3.6/dist-packages (from open3d-python) (7.5.1)\n",
            "Requirement already satisfied: widgetsnbextension in /usr/local/lib/python3.6/dist-packages (from open3d-python) (3.5.1)\n",
            "Requirement already satisfied: retrying>=1.3.3 in /usr/local/lib/python3.6/dist-packages (from plotly) (1.3.3)\n",
            "Requirement already satisfied: six in /usr/local/lib/python3.6/dist-packages (from plotly) (1.12.0)\n",
            "Requirement already satisfied: MarkupSafe>=0.9.2 in /usr/local/lib/python3.6/dist-packages (from mako->pycuda) (1.1.1)\n",
            "Requirement already satisfied: jupyter-client in /usr/local/lib/python3.6/dist-packages (from notebook->open3d-python) (5.3.4)\n",
            "Requirement already satisfied: jupyter-core in /usr/local/lib/python3.6/dist-packages (from notebook->open3d-python) (4.6.3)\n",
            "Requirement already satisfied: ipython-genutils in /usr/local/lib/python3.6/dist-packages (from notebook->open3d-python) (0.2.0)\n",
            "Requirement already satisfied: tornado>=4 in /usr/local/lib/python3.6/dist-packages (from notebook->open3d-python) (4.5.3)\n",
            "Requirement already satisfied: traitlets>=4.2.1 in /usr/local/lib/python3.6/dist-packages (from notebook->open3d-python) (4.3.3)\n",
            "Requirement already satisfied: ipykernel in /usr/local/lib/python3.6/dist-packages (from notebook->open3d-python) (4.10.1)\n",
            "Requirement already satisfied: nbconvert in /usr/local/lib/python3.6/dist-packages (from notebook->open3d-python) (5.6.1)\n",
            "Requirement already satisfied: terminado>=0.3.3; sys_platform != \"win32\" in /usr/local/lib/python3.6/dist-packages (from notebook->open3d-python) (0.8.3)\n",
            "Requirement already satisfied: jinja2 in /usr/local/lib/python3.6/dist-packages (from notebook->open3d-python) (2.11.2)\n",
            "Requirement already satisfied: nbformat in /usr/local/lib/python3.6/dist-packages (from notebook->open3d-python) (5.0.5)\n",
            "Requirement already satisfied: ipython>=4.0.0; python_version >= \"3.3\" in /usr/local/lib/python3.6/dist-packages (from ipywidgets->open3d-python) (5.5.0)\n",
            "Requirement already satisfied: pyzmq>=13 in /usr/local/lib/python3.6/dist-packages (from jupyter-client->notebook->open3d-python) (19.0.0)\n",
            "Requirement already satisfied: python-dateutil>=2.1 in /usr/local/lib/python3.6/dist-packages (from jupyter-client->notebook->open3d-python) (2.8.1)\n",
            "Requirement already satisfied: mistune<2,>=0.8.1 in /usr/local/lib/python3.6/dist-packages (from nbconvert->notebook->open3d-python) (0.8.4)\n",
            "Requirement already satisfied: testpath in /usr/local/lib/python3.6/dist-packages (from nbconvert->notebook->open3d-python) (0.4.4)\n",
            "Requirement already satisfied: defusedxml in /usr/local/lib/python3.6/dist-packages (from nbconvert->notebook->open3d-python) (0.6.0)\n",
            "Requirement already satisfied: entrypoints>=0.2.2 in /usr/local/lib/python3.6/dist-packages (from nbconvert->notebook->open3d-python) (0.3)\n",
            "Requirement already satisfied: bleach in /usr/local/lib/python3.6/dist-packages (from nbconvert->notebook->open3d-python) (3.1.4)\n",
            "Requirement already satisfied: pandocfilters>=1.4.1 in /usr/local/lib/python3.6/dist-packages (from nbconvert->notebook->open3d-python) (1.4.2)\n",
            "Requirement already satisfied: pygments in /usr/local/lib/python3.6/dist-packages (from nbconvert->notebook->open3d-python) (2.1.3)\n",
            "Requirement already satisfied: ptyprocess; os_name != \"nt\" in /usr/local/lib/python3.6/dist-packages (from terminado>=0.3.3; sys_platform != \"win32\"->notebook->open3d-python) (0.6.0)\n",
            "Requirement already satisfied: jsonschema!=2.5.0,>=2.4 in /usr/local/lib/python3.6/dist-packages (from nbformat->notebook->open3d-python) (2.6.0)\n",
            "Requirement already satisfied: pexpect; sys_platform != \"win32\" in /usr/local/lib/python3.6/dist-packages (from ipython>=4.0.0; python_version >= \"3.3\"->ipywidgets->open3d-python) (4.8.0)\n",
            "Requirement already satisfied: pickleshare in /usr/local/lib/python3.6/dist-packages (from ipython>=4.0.0; python_version >= \"3.3\"->ipywidgets->open3d-python) (0.7.5)\n",
            "Requirement already satisfied: prompt-toolkit<2.0.0,>=1.0.4 in /usr/local/lib/python3.6/dist-packages (from ipython>=4.0.0; python_version >= \"3.3\"->ipywidgets->open3d-python) (1.0.18)\n",
            "Requirement already satisfied: simplegeneric>0.8 in /usr/local/lib/python3.6/dist-packages (from ipython>=4.0.0; python_version >= \"3.3\"->ipywidgets->open3d-python) (0.8.1)\n",
            "Requirement already satisfied: setuptools>=18.5 in /usr/local/lib/python3.6/dist-packages (from ipython>=4.0.0; python_version >= \"3.3\"->ipywidgets->open3d-python) (46.1.3)\n",
            "Requirement already satisfied: webencodings in /usr/local/lib/python3.6/dist-packages (from bleach->nbconvert->notebook->open3d-python) (0.5.1)\n",
            "Requirement already satisfied: wcwidth in /usr/local/lib/python3.6/dist-packages (from prompt-toolkit<2.0.0,>=1.0.4->ipython>=4.0.0; python_version >= \"3.3\"->ipywidgets->open3d-python) (0.1.9)\n",
            "Building wheels for collected packages: pycuda, OpenEXR, pytools\n",
            "  Building wheel for pycuda (setup.py) ... \u001b[?25l\u001b[?25hdone\n",
            "  Created wheel for pycuda: filename=pycuda-2019.1.2-cp36-cp36m-linux_x86_64.whl size=4533536 sha256=c5158a0136b87321443d8b63efed16dd30ac6a5b2fae9d3051d6b0c2d3786ded\n",
            "  Stored in directory: /root/.cache/pip/wheels/a6/60/f0/b1c430c73d281ac3e46070480db50f7907364eb6f6d3188396\n",
            "  Building wheel for OpenEXR (setup.py) ... \u001b[?25l\u001b[?25hdone\n",
            "  Created wheel for OpenEXR: filename=OpenEXR-1.3.2-cp36-cp36m-linux_x86_64.whl size=188420 sha256=de8b3813e3d6606f2956f8d0de8c845bf779ed50857c42b0673eb60fd6e0238c\n",
            "  Stored in directory: /root/.cache/pip/wheels/41/06/9f/c7dc838815b0e7dfc7d7dc19cc3d677edb47594d8489adc62a\n",
            "  Building wheel for pytools (setup.py) ... \u001b[?25l\u001b[?25hdone\n",
            "  Created wheel for pytools: filename=pytools-2020.1-py2.py3-none-any.whl size=59602 sha256=970eb453660fef211ee895011e87b78ea7005dea58ec1112a96e125bbaba8845\n",
            "  Stored in directory: /root/.cache/pip/wheels/6f/da/1b/946775a88291378182ed92c9800d6d0ebc2a554cb89829cc24\n",
            "Successfully built pycuda OpenEXR pytools\n",
            "Installing collected packages: appdirs, pytools, mako, pycuda, OpenEXR, open3d-python\n",
            "Successfully installed OpenEXR-1.3.2 appdirs-1.4.3 mako-1.1.2 open3d-python-0.7.0.0 pycuda-2019.1.2 pytools-2020.1\n"
          ],
          "name": "stdout"
        }
      ]
    },
    {
      "cell_type": "code",
      "metadata": {
        "id": "hxI64HVUOU-f",
        "colab_type": "code",
        "colab": {}
      },
      "source": [
        "import numpy as np\n",
        "\n",
        "%matplotlib inline \n",
        "from matplotlib import pyplot as plt"
      ],
      "execution_count": 0,
      "outputs": []
    },
    {
      "cell_type": "code",
      "metadata": {
        "id": "sipj4ElSQfmu",
        "colab_type": "code",
        "colab": {
          "base_uri": "https://localhost:8080/",
          "height": 34
        },
        "outputId": "c8ff6e20-0c97-4476-a70c-f348c3217df8"
      },
      "source": [
        "from google.colab import drive\n",
        "drive.mount('/content/gdrive')"
      ],
      "execution_count": 4,
      "outputs": [
        {
          "output_type": "stream",
          "text": [
            "Drive already mounted at /content/gdrive; to attempt to forcibly remount, call drive.mount(\"/content/gdrive\", force_remount=True).\n"
          ],
          "name": "stdout"
        }
      ]
    },
    {
      "cell_type": "code",
      "metadata": {
        "id": "VvUug5xoj4j6",
        "colab_type": "code",
        "colab": {
          "base_uri": "https://localhost:8080/",
          "height": 334
        },
        "outputId": "ca964fc6-285c-4092-ec39-2dcc9fac0748"
      },
      "source": [
        "import sys\n",
        "sys.path.append('/content/gdrive/My Drive/Colab')\n",
        "\n",
        "from csv_utils import read_csv\n",
        "from exr_utils import exr_to_image, exr_to_depth\n",
        "from tsdf_fusion import get_view_frustum, TSDFVolume, meshwrite"
      ],
      "execution_count": 18,
      "outputs": [
        {
          "output_type": "error",
          "ename": "ModuleNotFoundError",
          "evalue": "ignored",
          "traceback": [
            "\u001b[0;31m---------------------------------------------------------------------------\u001b[0m",
            "\u001b[0;31mModuleNotFoundError\u001b[0m                       Traceback (most recent call last)",
            "\u001b[0;32m<ipython-input-18-d20d4717a403>\u001b[0m in \u001b[0;36m<module>\u001b[0;34m()\u001b[0m\n\u001b[1;32m      4\u001b[0m \u001b[0;32mfrom\u001b[0m \u001b[0mcsv_utils\u001b[0m \u001b[0;32mimport\u001b[0m \u001b[0mread_csv\u001b[0m\u001b[0;34m\u001b[0m\u001b[0;34m\u001b[0m\u001b[0m\n\u001b[1;32m      5\u001b[0m \u001b[0;32mfrom\u001b[0m \u001b[0mexr_utils\u001b[0m \u001b[0;32mimport\u001b[0m \u001b[0mexr_to_image\u001b[0m\u001b[0;34m,\u001b[0m \u001b[0mexr_to_depth\u001b[0m\u001b[0;34m\u001b[0m\u001b[0;34m\u001b[0m\u001b[0m\n\u001b[0;32m----> 6\u001b[0;31m \u001b[0;32mfrom\u001b[0m \u001b[0mtsdf_fusion\u001b[0m \u001b[0;32mimport\u001b[0m \u001b[0mget_view_frustum\u001b[0m\u001b[0;34m,\u001b[0m \u001b[0mTSDFVolume\u001b[0m\u001b[0;34m,\u001b[0m \u001b[0mmeshwrite\u001b[0m\u001b[0;34m\u001b[0m\u001b[0;34m\u001b[0m\u001b[0m\n\u001b[0m",
            "\u001b[0;31mModuleNotFoundError\u001b[0m: No module named 'tsdf_fusion'",
            "",
            "\u001b[0;31m---------------------------------------------------------------------------\u001b[0;32m\nNOTE: If your import is failing due to a missing package, you can\nmanually install dependencies using either !pip or !apt.\n\nTo view examples of installing some common dependencies, click the\n\"Open Examples\" button below.\n\u001b[0;31m---------------------------------------------------------------------------\u001b[0m\n"
          ]
        }
      ]
    },
    {
      "cell_type": "code",
      "metadata": {
        "id": "70kXMhVZTTGd",
        "colab_type": "code",
        "colab": {}
      },
      "source": [
        "def show_array(data):\n",
        "    data /= np.max(data)\n",
        "    plt.imshow(data, interpolation='bicubic')\n",
        "    plt.show()"
      ],
      "execution_count": 0,
      "outputs": []
    },
    {
      "cell_type": "code",
      "metadata": {
        "id": "u5_cJgNWjWwp",
        "colab_type": "code",
        "colab": {}
      },
      "source": [
        "from open3d import read_point_cloud\n",
        "import plotly.express as px\n",
        "\n",
        "def show_mesh(name):\n",
        "    cloud = read_point_cloud(name + \".ply\")\n",
        "    array = np.asarray(cloud.points)\n",
        "    print(array.shape)\n",
        "    \n",
        "    df = px.data.iris()\n",
        "    fig = px.scatter_3d(df, x='sepal_length', y='sepal_width', z='petal_width',\n",
        "              color='species')\n",
        "    fig.show()"
      ],
      "execution_count": 0,
      "outputs": []
    },
    {
      "cell_type": "code",
      "metadata": {
        "id": "vUd6taHngTfm",
        "colab_type": "code",
        "colab": {}
      },
      "source": [
        "IMAGES_NUMBER = 4"
      ],
      "execution_count": 0,
      "outputs": []
    },
    {
      "cell_type": "code",
      "metadata": {
        "id": "eyCxgObUPfkI",
        "colab_type": "code",
        "colab": {}
      },
      "source": [
        "def fuse():\n",
        "\n",
        "    print(\"Estimating voxel volume bounds...\")\n",
        "    images = IMAGES_NUMBER\n",
        "\n",
        "    camera_intrinsics = np.reshape(read_csv(file='camera_calibration.csv', field='Camera Intrinsics'), (3, 3))\n",
        "\n",
        "    bounds = np.zeros((3, 2))\n",
        "\n",
        "    for i in range(0, images):\n",
        "        \n",
        "        path = (str(i + 1) + '.exr')\n",
        "        depth = exr_to_depth(path, background=False)\n",
        "        camera_pose = np.reshape(np.array(read_csv(file='frames.csv', field='Matrix', row_number=i), dtype=float), (4, 4))\n",
        "\n",
        "        # Compute camera view frustum and extend convex hull\n",
        "        view_frust_pts = get_view_frustum(depth, camera_intrinsics, camera_pose)\n",
        "        bounds[:, 0] = np.minimum(bounds[:, 0], np.amin(view_frust_pts, axis=1))\n",
        "        bounds[:, 1] = np.maximum(bounds[:, 1], np.amax(view_frust_pts, axis=1))\n",
        "\n",
        "    print(\"Initializing voxel volume...\")\n",
        "    tsdf_vol = TSDFVolume(bounds, voxel_size=0.013)\n",
        "\n",
        "    # Loop through RGB-D images and fuse them together\n",
        "    t0_elapse = time.time()\n",
        "\n",
        "    for i in range(0, images):\n",
        "        print(\"Fusing frame %d/%d\" % (i + 1, images))\n",
        "\n",
        "        # Read RGB-D image and camera pose\n",
        "        path = (str(i + 1) + '.exr')\n",
        "        color_image = exr_to_image(path)\n",
        "        depth = exr_to_depth(path, background=False)\n",
        "\n",
        "        camera_pose = np.reshape(np.array(read_csv(file='frames.csv', field='Matrix', row_number=i), dtype=float), (4, 4))\n",
        "\n",
        "        # Integrate observation into voxel volume (assume color aligned with depth)\n",
        "        tsdf_vol.integrate(color_image, depth, camera_intrinsics, camera_pose, obs_weight=1.)\n",
        "\n",
        "    fps = images / (time.time() - t0_elapse)\n",
        "    print(\"Average FPS: {:.2f}\".format(fps))\n",
        "\n",
        "    # Get mesh from voxel volume and save to disk (can be viewed with Meshlab)\n",
        "    print(\"Saving mesh to mesh.ply...\")\n",
        "    verts, faces, norms, colors = tsdf_vol.get_mesh()\n",
        "\n",
        "    meshwrite('mesh.ply', verts, faces, norms, colors)\n",
        "\n",
        "    # Get point cloud from voxel volume and save to disk (can be viewed with Meshlab)\n",
        "    # print(\"Saving point cloud to pc.ply...\")\n",
        "    # point_cloud = tsdf_vol.get_point_cloud()\n",
        "    # fusion.pcwrite(\"pc.ply\", point_cloud)\n"
      ],
      "execution_count": 0,
      "outputs": []
    },
    {
      "cell_type": "code",
      "metadata": {
        "id": "xrIm41yufeCM",
        "colab_type": "code",
        "outputId": "b20c568c-0a25-443a-a244-fd7466af37b6",
        "colab": {
          "base_uri": "https://localhost:8080/",
          "height": 207
        }
      },
      "source": [
        "fuse()"
      ],
      "execution_count": 0,
      "outputs": [
        {
          "output_type": "stream",
          "text": [
            "Estimating voxel volume bounds...\n"
          ],
          "name": "stdout"
        },
        {
          "output_type": "stream",
          "text": [
            "/usr/local/lib/python3.6/dist-packages/ipykernel_launcher.py:24: DeprecationWarning: The binary mode of fromstring is deprecated, as it behaves surprisingly on unicode inputs. Use frombuffer instead\n"
          ],
          "name": "stderr"
        },
        {
          "output_type": "stream",
          "text": [
            "Initializing voxel volume...\n",
            "Voxel volume size: 1140 x 348 x 1163 - # points: 461,385,360\n",
            "Fusing frame 1/4\n",
            "Fusing frame 2/4\n",
            "Fusing frame 3/4\n",
            "Fusing frame 4/4\n",
            "Average FPS: 1.11\n",
            "Saving mesh to mesh.ply...\n"
          ],
          "name": "stdout"
        }
      ]
    },
    {
      "cell_type": "code",
      "metadata": {
        "id": "1xbtGnD-kbPI",
        "colab_type": "code",
        "outputId": "3322401c-3f6e-4a7a-9c47-6ade5ce3eb98",
        "colab": {
          "base_uri": "https://localhost:8080/",
          "height": 34
        }
      },
      "source": [
        "show_mesh('mesh')"
      ],
      "execution_count": 0,
      "outputs": [
        {
          "output_type": "stream",
          "text": [
            "geometry::PointCloud with 441767 points.\n"
          ],
          "name": "stdout"
        }
      ]
    }
  ]
}